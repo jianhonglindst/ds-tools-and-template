{
 "cells": [
  {
   "cell_type": "code",
   "execution_count": 1,
   "metadata": {},
   "outputs": [],
   "source": [
    "import warnings\n",
    "warnings.filterwarnings('ignore')"
   ]
  },
  {
   "cell_type": "markdown",
   "metadata": {},
   "source": [
    "## 套件: datetime\n",
    "\n",
    " Reference: [8.1. datetime — Basic date and time types](https://docs.python.org/2/library/datetime.html#strftime-and-strptime-behavior)"
   ]
  },
  {
   "cell_type": "markdown",
   "metadata": {},
   "source": [
    "### object\n",
    "\n",
    "1. timedelta\n",
    "2. date\n",
    "3. datetime\n",
    "4. time\n",
    "5. tzinfo\n",
    "\n",
    "### behavior\n",
    "\n",
    "1. strftime() => 將 datetime 格式用指定的文字格式輸出\n",
    "2. strptime() => 將日期的字串形式轉成 datetime 格式"
   ]
  },
  {
   "cell_type": "code",
   "execution_count": 2,
   "metadata": {},
   "outputs": [
    {
     "name": "stdout",
     "output_type": "stream",
     "text": [
      "now time: 2020-07-18 23:16:35.427261\n",
      "\n",
      "date(YYYYMMDD): 2020-07-18\n",
      "date(DD/MM/YYYY): 18/07/2020\n",
      "year: 2020\n",
      "month: 07\n",
      "day: 18\n",
      "\n",
      "time: 23:16:35\n",
      "hour: 23\n",
      "minute: 16\n",
      "second: 35\n",
      "\n",
      "now (string): 2020-07-18 21:07:09\n",
      "now (datetime): 2020-07-18 21:07:09\n",
      "\n",
      "year: 2020\n",
      "month: 7\n",
      "day: 18\n",
      "\n",
      "hour: 21\n",
      "minute: 7\n",
      "second: 9\n"
     ]
    }
   ],
   "source": [
    "from datetime import datetime\n",
    "\n",
    "# behavior\n",
    "# 1. datetime.datetime.strftime(): 將 datetime 格式用指定的文字格式輸出\n",
    "now = datetime.now()\n",
    "\n",
    "print(f'now time: {now}')\n",
    "print()\n",
    "print(f'date(YYYYMMDD): {now.strftime(\"%Y-%m-%d\")}')\n",
    "print(f'date(DD/MM/YYYY): {now.strftime(\"%d/%m/%Y\")}')\n",
    "print(f'year: {now.strftime(\"%Y\")}')\n",
    "print(f'month: {now.strftime(\"%m\")}')\n",
    "print(f'day: {now.strftime(\"%d\")}')\n",
    "print()\n",
    "print(f'time: {now.strftime(\"%H:%M:%S\")}')\n",
    "print(f'hour: {now.strftime(\"%H\")}')\n",
    "print(f'minute: {now.strftime(\"%M\")}')\n",
    "print(f'second: {now.strftime(\"%S\")}')\n",
    "print()\n",
    "\n",
    "# 2. datetime.datetime.strptime(): 將日期的字串形式轉成 datetime 格式\n",
    "\n",
    "now = '2020-07-18 21:07:09'\n",
    "now_time = datetime.strptime(now, '%Y-%m-%d %H:%M:%S')\n",
    "print(f'now (string): {now}')\n",
    "print(f'now (datetime): {now_time}')\n",
    "print()\n",
    "print(f'year: {now_time.year}')\n",
    "print(f'month: {now_time.month}')\n",
    "print(f'day: {now_time.day}')\n",
    "print()\n",
    "print(f'hour: {now_time.hour}')\n",
    "print(f'minute: {now_time.minute}')\n",
    "print(f'second: {now_time.second}')"
   ]
  },
  {
   "cell_type": "markdown",
   "metadata": {},
   "source": [
    "## 模型常用特徵"
   ]
  },
  {
   "cell_type": "markdown",
   "metadata": {},
   "source": [
    "#### 資料結構: Dict"
   ]
  },
  {
   "cell_type": "code",
   "execution_count": 3,
   "metadata": {},
   "outputs": [
    {
     "data": {
      "text/plain": [
       "{'datetime': '2020-07-18 17:06:30',\n",
       " 'year': 2020,\n",
       " 'month': 7,\n",
       " 'day': 18,\n",
       " 'quarter': 3,\n",
       " 'weeks': '29',\n",
       " 'weekday': 6,\n",
       " 'days': '200',\n",
       " 'hour': 17,\n",
       " 'minute': 6,\n",
       " 'second': 30,\n",
       " 'holiday': 'holiday'}"
      ]
     },
     "execution_count": 3,
     "metadata": {},
     "output_type": "execute_result"
    }
   ],
   "source": [
    "from datetime import datetime\n",
    "from datetime import timedelta\n",
    "\n",
    "_datetime = datetime.strptime('2020-07-18 17:06:30', '%Y-%m-%d %H:%M:%S')\n",
    "\n",
    "_date = {\n",
    "    'datetime': _datetime.__str__(),\n",
    "    # date\n",
    "    'year': _datetime.year,\n",
    "    'month': _datetime.month,\n",
    "    'day': _datetime.day,\n",
    "    # day-type\n",
    "    'quarter': (_datetime.month - 1) // 3 + 1,\n",
    "    'weeks': _datetime.strftime('%V'),\n",
    "    'weekday': (_datetime.weekday() + 1) % 7, # 0 is Sunday\n",
    "    'days': _datetime.strftime('%j'),\n",
    "    # time\n",
    "    'hour': _datetime.hour,\n",
    "    'minute': _datetime.minute,\n",
    "    'second': _datetime.second,\n",
    "    # taiwan weekly holiday\n",
    "    'holiday': 'holiday' if (_datetime.weekday() + 1) % 7 in [0, 6] else 'non-holiday',\n",
    "}\n",
    "\n",
    "_date"
   ]
  },
  {
   "cell_type": "markdown",
   "metadata": {},
   "source": [
    "#### 資料結構: DadaFrame"
   ]
  },
  {
   "cell_type": "code",
   "execution_count": 4,
   "metadata": {},
   "outputs": [
    {
     "data": {
      "text/html": [
       "<div>\n",
       "<style scoped>\n",
       "    .dataframe tbody tr th:only-of-type {\n",
       "        vertical-align: middle;\n",
       "    }\n",
       "\n",
       "    .dataframe tbody tr th {\n",
       "        vertical-align: top;\n",
       "    }\n",
       "\n",
       "    .dataframe thead th {\n",
       "        text-align: right;\n",
       "    }\n",
       "</style>\n",
       "<table border=\"1\" class=\"dataframe\">\n",
       "  <thead>\n",
       "    <tr style=\"text-align: right;\">\n",
       "      <th></th>\n",
       "      <th>date</th>\n",
       "      <th>year</th>\n",
       "      <th>month</th>\n",
       "      <th>day</th>\n",
       "      <th>quarter</th>\n",
       "      <th>weeks</th>\n",
       "      <th>weekday</th>\n",
       "      <th>days</th>\n",
       "      <th>hour</th>\n",
       "      <th>minute</th>\n",
       "      <th>second</th>\n",
       "      <th>holiday</th>\n",
       "    </tr>\n",
       "  </thead>\n",
       "  <tbody>\n",
       "    <tr>\n",
       "      <th>0</th>\n",
       "      <td>2020-07-18</td>\n",
       "      <td>2020</td>\n",
       "      <td>7</td>\n",
       "      <td>18</td>\n",
       "      <td>3</td>\n",
       "      <td>29</td>\n",
       "      <td>6</td>\n",
       "      <td>200</td>\n",
       "      <td>0</td>\n",
       "      <td>0</td>\n",
       "      <td>0</td>\n",
       "      <td>holiday</td>\n",
       "    </tr>\n",
       "    <tr>\n",
       "      <th>1</th>\n",
       "      <td>2020-07-19</td>\n",
       "      <td>2020</td>\n",
       "      <td>7</td>\n",
       "      <td>19</td>\n",
       "      <td>3</td>\n",
       "      <td>29</td>\n",
       "      <td>0</td>\n",
       "      <td>201</td>\n",
       "      <td>0</td>\n",
       "      <td>0</td>\n",
       "      <td>0</td>\n",
       "      <td>holiday</td>\n",
       "    </tr>\n",
       "    <tr>\n",
       "      <th>2</th>\n",
       "      <td>2020-07-20</td>\n",
       "      <td>2020</td>\n",
       "      <td>7</td>\n",
       "      <td>20</td>\n",
       "      <td>3</td>\n",
       "      <td>30</td>\n",
       "      <td>1</td>\n",
       "      <td>202</td>\n",
       "      <td>0</td>\n",
       "      <td>0</td>\n",
       "      <td>0</td>\n",
       "      <td>non-holiday</td>\n",
       "    </tr>\n",
       "    <tr>\n",
       "      <th>3</th>\n",
       "      <td>2020-07-21</td>\n",
       "      <td>2020</td>\n",
       "      <td>7</td>\n",
       "      <td>21</td>\n",
       "      <td>3</td>\n",
       "      <td>30</td>\n",
       "      <td>2</td>\n",
       "      <td>203</td>\n",
       "      <td>0</td>\n",
       "      <td>0</td>\n",
       "      <td>0</td>\n",
       "      <td>non-holiday</td>\n",
       "    </tr>\n",
       "    <tr>\n",
       "      <th>4</th>\n",
       "      <td>2020-07-22</td>\n",
       "      <td>2020</td>\n",
       "      <td>7</td>\n",
       "      <td>22</td>\n",
       "      <td>3</td>\n",
       "      <td>30</td>\n",
       "      <td>3</td>\n",
       "      <td>204</td>\n",
       "      <td>0</td>\n",
       "      <td>0</td>\n",
       "      <td>0</td>\n",
       "      <td>non-holiday</td>\n",
       "    </tr>\n",
       "  </tbody>\n",
       "</table>\n",
       "</div>"
      ],
      "text/plain": [
       "        date  year  month  day  quarter weeks  weekday days  hour  minute  \\\n",
       "0 2020-07-18  2020      7   18        3    29        6  200     0       0   \n",
       "1 2020-07-19  2020      7   19        3    29        0  201     0       0   \n",
       "2 2020-07-20  2020      7   20        3    30        1  202     0       0   \n",
       "3 2020-07-21  2020      7   21        3    30        2  203     0       0   \n",
       "4 2020-07-22  2020      7   22        3    30        3  204     0       0   \n",
       "\n",
       "   second      holiday  \n",
       "0       0      holiday  \n",
       "1       0      holiday  \n",
       "2       0  non-holiday  \n",
       "3       0  non-holiday  \n",
       "4       0  non-holiday  "
      ]
     },
     "execution_count": 4,
     "metadata": {},
     "output_type": "execute_result"
    }
   ],
   "source": [
    "import pandas as pd\n",
    "\n",
    "df = pd.DataFrame({\n",
    "    'date': pd.date_range(start='2020-07-18', end='2021-02-01', freq='D')\n",
    "})\n",
    "# date\n",
    "df['year'] = df.date.apply(lambda x: x.year)\n",
    "df['month'] = df.date.apply(lambda x: x.month)\n",
    "df['day'] = df.date.apply(lambda x: x.day)\n",
    "# day-type\n",
    "df['quarter'] = df.date.apply(lambda x: (x.month - 1) // 3 + 1)\n",
    "df['weeks'] = df.date.apply(lambda x: x.strftime('%V'))\n",
    "df['weekday'] = df.date.apply(lambda x: (x.weekday() + 1) % 7) # 0 is Sunday\n",
    "df['days'] = df.date.apply(lambda x: x.strftime('%j'))\n",
    "# time\n",
    "df['hour'] = df.date.apply(lambda x: x.hour)\n",
    "df['minute'] = df.date.apply(lambda x: x.minute)\n",
    "df['second'] = df.date.apply(lambda x: x.second)\n",
    "# taiwan weekly holiday\n",
    "df['holiday'] = df.date.apply(lambda x: 'holiday' if (x.weekday() + 1) % 7 in [0, 6] else 'non-holiday')\n",
    "\n",
    "df.head()"
   ]
  },
  {
   "cell_type": "markdown",
   "metadata": {},
   "source": [
    "## Timezone\n",
    "\n",
    "#### 操作 UNIX-TIMESTAMP"
   ]
  },
  {
   "cell_type": "code",
   "execution_count": 5,
   "metadata": {},
   "outputs": [
    {
     "name": "stdout",
     "output_type": "stream",
     "text": [
      "Get LOCAL time from datetime.now(): 2020-07-18 23:16:35.712208\n",
      "Get UTC time from datetime.now(): 2020-07-18 15:16:35.712275+00:00\n",
      "\n",
      "UNIX-TIMESTAMP: 1595085395.7123656\n",
      "Get LOCAL time from UNIX-TIMESTAMP: 2020-07-18 23:16:35.712366\n",
      "Get UTC time from UNIX-TIMESTAMP by .utcfromtimestamp: 2020-07-18 15:16:35.712366\n",
      "Get UTC time from UNIX-TIMESTAMP by .fromtimestamp: 2020-07-18 15:16:35.712366+00:00\n"
     ]
    }
   ],
   "source": [
    "import time\n",
    "from datetime import datetime\n",
    "from datetime import timezone\n",
    "\n",
    "print(f'Get LOCAL time from datetime.now(): {datetime.now()}')\n",
    "print(f'Get UTC time from datetime.now(): {datetime.now(tz=timezone.utc)}')\n",
    "print()\n",
    "\n",
    "unix_timestamp = time.time()\n",
    "print(f'UNIX-TIMESTAMP: {unix_timestamp}')\n",
    "print(f'Get LOCAL time from UNIX-TIMESTAMP: {datetime.fromtimestamp(unix_timestamp)}') # 透過 fromtimestamp 會得到 local time 要特別注意\n",
    "print(f'Get UTC time from UNIX-TIMESTAMP by .utcfromtimestamp: {datetime.utcfromtimestamp(unix_timestamp)}')\n",
    "print(f'Get UTC time from UNIX-TIMESTAMP by .fromtimestamp: {datetime.fromtimestamp(unix_timestamp, tz=timezone.utc)}') "
   ]
  },
  {
   "cell_type": "markdown",
   "metadata": {},
   "source": [
    "#### 從帶有時區文字的文字日期格式做轉換\n",
    "\n",
    "\n",
    "由 `dateutil.parser` 的範例必須了解一件事，運用不同的套件來轉換 `datetime` 物件時，要注意 `datetime` 物件實際的狀態，以免做出錯誤的轉換"
   ]
  },
  {
   "cell_type": "code",
   "execution_count": 6,
   "metadata": {},
   "outputs": [
    {
     "name": "stdout",
     "output_type": "stream",
     "text": [
      "Origin String: 2020-07-18 13:50:05.932447+00:00\n",
      "Parsed Object: datetime.datetime(2020, 7, 18, 13, 50, 5, 932447, tzinfo=tzutc())\n",
      "         time: 13:50:05.932447\n",
      "    timestamp: 1595080205.932447\n",
      "   local time: 2020-07-18 13:50:05.932447+00:00\n",
      "\n",
      "Origin String: 2020-07-18 13:50:05.932447+08:00\n",
      "Parsed Object: datetime.datetime(2020, 7, 18, 13, 50, 5, 932447, tzinfo=tzoffset(None, 28800))\n",
      "         time: 13:50:05.932447 <= 會顯示 UTC 的 time\n",
      "    timestamp: 1595051405.932447 <= 這樣取得的 unix-timestamp 被扣掉了 offset 的部份\n",
      "   local time: 2020-07-18 13:50:05.932447+08:00\n",
      "   local time: 2020-07-18 13:50:05.932447 <= 如果沒有 tz=_datetime.tzinfo，會無法正確顯示本地時間\n",
      "\n"
     ]
    }
   ],
   "source": [
    "# convert time by dateutil.parser => (parse())\n",
    "from dateutil.parser import parse\n",
    "\n",
    "# VIP: datetime.datetime(2020, 7, 18, 13, 50, 5, 932447, tzinfo=tzutc())\n",
    "_datetime = parse(\"2020-07-18 13:50:05.932447+00:00\") # UTC\n",
    "print(f'Origin String: {_datetime}')\n",
    "print(f'Parsed Object: {_datetime.__repr__()}')\n",
    "print(f'         time: {_datetime.time()}')\n",
    "print(f'    timestamp: {_datetime.timestamp()}')\n",
    "print(f'   local time: {_datetime.fromtimestamp(_datetime.timestamp(), tz=_datetime.tzinfo)}')\n",
    "print()\n",
    "\n",
    "# VIP: datetime.datetime(2020, 7, 18, 13, 50, 5, 932447, tzinfo=tzoffset(None, 28800))\n",
    "_datetime = parse(\"2020-07-18 13:50:05.932447+08:00\") # Asia/Taipei\n",
    "print(f'Origin String: {_datetime}')\n",
    "print(f'Parsed Object: {_datetime.__repr__()}')\n",
    "print(f'         time: {_datetime.time()} <= 會顯示 UTC 的 time')\n",
    "print(f'    timestamp: {_datetime.timestamp()} <= 這樣取得的 unix-timestamp 被扣掉了 offset 的部份')\n",
    "print(f'   local time: {_datetime.fromtimestamp(_datetime.timestamp(), tz=_datetime.tzinfo)}') \n",
    "print(f'   local time: {_datetime.fromtimestamp(_datetime.timestamp())} <= 如果沒有 tz=_datetime.tzinfo，會無法正確顯示本地時間')\n",
    "print()\n"
   ]
  },
  {
   "cell_type": "code",
   "execution_count": null,
   "metadata": {},
   "outputs": [],
   "source": []
  }
 ],
 "metadata": {
  "kernelspec": {
   "display_name": "Python 3.6.9 64-bit ('dstoolstemplate': venv)",
   "language": "python",
   "name": "python36964bitdstoolstemplatevenv3754eed3e567425692f0cfa31c879ae1"
  },
  "language_info": {
   "codemirror_mode": {
    "name": "ipython",
    "version": 3
   },
   "file_extension": ".py",
   "mimetype": "text/x-python",
   "name": "python",
   "nbconvert_exporter": "python",
   "pygments_lexer": "ipython3",
   "version": "3.6.9"
  }
 },
 "nbformat": 4,
 "nbformat_minor": 4
}
